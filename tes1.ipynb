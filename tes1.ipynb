{
 "cells": [
  {
   "cell_type": "code",
   "execution_count": 1,
   "id": "34ea6ab3",
   "metadata": {},
   "outputs": [],
   "source": [
    "import pandas as pd\n",
    "import numpy as np\n",
    "from sklearn.cluster import KMeans\n",
    "from matplotlib import pyplot as plt\n",
    "from sklearn.preprocessing import StandardScaler"
   ]
  },
  {
   "cell_type": "code",
   "execution_count": 2,
   "id": "3b27a7f4",
   "metadata": {},
   "outputs": [],
   "source": [
    "df = pd.read_csv('jumlah_tempat_hiburan1.csv')"
   ]
  },
  {
   "cell_type": "code",
   "execution_count": 3,
   "id": "a8b11e5d",
   "metadata": {},
   "outputs": [
    {
     "data": {
      "text/plain": [
       "Text(0, 0.5, 'Tahun')"
      ]
     },
     "execution_count": 3,
     "metadata": {},
     "output_type": "execute_result"
    },
    {
     "data": {
      "image/png": "[encoded data removed]",
      "text/plain": [
       "<Figure size 640x480 with 1 Axes>"
      ]
     },
     "metadata": {},
     "output_type": "display_data"
    }
   ],
   "source": [
    "plt.scatter(df['jumlah_tempat_hiburan'], df['tahun'])\n",
    "plt.xlabel('Jumlah tempat hiburan')\n",
    "plt.ylabel('Tahun')"
   ]
  },
  {
   "cell_type": "code",
   "execution_count": 4,
   "id": "29ea9b9f",
   "metadata": {},
   "outputs": [
    {
     "name": "stdout",
     "output_type": "stream",
     "text": [
      "<class 'pandas.core.frame.DataFrame'>\n",
      "RangeIndex: 1080 entries, 0 to 1079\n",
      "Data columns (total 8 columns):\n",
      " #   Column                 Non-Null Count  Dtype \n",
      "---  ------                 --------------  ----- \n",
      " 0   id                     1080 non-null   int64 \n",
      " 1   kode_provinsi          1080 non-null   int64 \n",
      " 2   kode_kabupaten_kota    1080 non-null   int64 \n",
      " 3   nama_kabupaten_kota    1080 non-null   object\n",
      " 4   jenis_tempat_hiburan   1080 non-null   object\n",
      " 5   jumlah_tempat_hiburan  1080 non-null   int64 \n",
      " 6   satuan                 1080 non-null   object\n",
      " 7   tahun                  1080 non-null   int64 \n",
      "dtypes: int64(5), object(3)\n",
      "memory usage: 67.6+ KB\n"
     ]
    }
   ],
   "source": [
    "df.info()"
   ]
  },
  {
   "cell_type": "code",
   "execution_count": 10,
   "id": "20aa1db3",
   "metadata": {},
   "outputs": [],
   "source": [
    "x_train = df[['jumlah_tempat_hiburan','tahun']].values"
   ]
  },
  {
   "cell_type": "code",
   "execution_count": 11,
   "id": "5522e383",
   "metadata": {},
   "outputs": [],
   "source": [
    "from sklearn.preprocessing import MinMaxScaler\n",
    "scaler = MinMaxScaler()\n",
    "x_train = scaler.fit_transform(x_train)"
   ]
  },
  {
   "cell_type": "code",
   "execution_count": 12,
   "id": "f3db4dd0",
   "metadata": {},
   "outputs": [
    {
     "data": {
      "text/plain": [
       "array([[0., 0.],\n",
       "       [0., 0.],\n",
       "       [0., 0.],\n",
       "       ...,\n",
       "       [0., 1.],\n",
       "       [0., 1.],\n",
       "       [0., 1.]])"
      ]
     },
     "execution_count": 12,
     "metadata": {},
     "output_type": "execute_result"
    }
   ],
   "source": [
    "x_train"
   ]
  },
  {
   "cell_type": "code",
   "execution_count": 13,
   "id": "f7623632",
   "metadata": {},
   "outputs": [
    {
     "data": {
      "text/plain": [
       "KMeans(n_clusters=3)"
      ]
     },
     "execution_count": 13,
     "metadata": {},
     "output_type": "execute_result"
    }
   ],
   "source": [
    "kmean = KMeans(n_clusters=3)\n",
    "kmean"
   ]
  },
  {
   "cell_type": "code",
   "execution_count": 14,
   "id": "51b3c8ec",
   "metadata": {},
   "outputs": [],
   "source": [
    "y_cluster = kmean.fit_predict(x_train)"
   ]
  },
  {
   "cell_type": "code",
   "execution_count": 15,
   "id": "5b640056",
   "metadata": {},
   "outputs": [
    {
     "data": {
      "text/plain": [
       "array([0, 0, 0, ..., 2, 2, 2])"
      ]
     },
     "execution_count": 15,
     "metadata": {},
     "output_type": "execute_result"
    }
   ],
   "source": [
    "y_cluster"
   ]
  },
  {
   "cell_type": "code",
   "execution_count": 16,
   "id": "a27bffe7",
   "metadata": {},
   "outputs": [],
   "source": [
    "df['Cluster'] = y_cluster"
   ]
  },
  {
   "cell_type": "code",
   "execution_count": 17,
   "id": "572a9f72",
   "metadata": {},
   "outputs": [
    {
     "data": {
      "text/html": [
       "<div>\n",
       "<style scoped>\n",
       "    .dataframe tbody tr th:only-of-type {\n",
       "        vertical-align: middle;\n",
       "    }\n",
       "\n",
       "    .dataframe tbody tr th {\n",
       "        vertical-align: top;\n",
       "    }\n",
       "\n",
       "    .dataframe thead th {\n",
       "        text-align: right;\n",
       "    }\n",
       "</style>\n",
       "<table border=\"1\" class=\"dataframe\">\n",
       "  <thead>\n",
       "    <tr style=\"text-align: right;\">\n",
       "      <th></th>\n",
       "      <th>id</th>\n",
       "      <th>kode_provinsi</th>\n",
       "      <th>kode_kabupaten_kota</th>\n",
       "      <th>nama_kabupaten_kota</th>\n",
       "      <th>jenis_tempat_hiburan</th>\n",
       "      <th>jumlah_tempat_hiburan</th>\n",
       "      <th>satuan</th>\n",
       "      <th>tahun</th>\n",
       "      <th>Cluster</th>\n",
       "    </tr>\n",
       "  </thead>\n",
       "  <tbody>\n",
       "    <tr>\n",
       "      <th>0</th>\n",
       "      <td>1</td>\n",
       "      <td>32</td>\n",
       "      <td>3201</td>\n",
       "      <td>KABUPATEN BOGOR</td>\n",
       "      <td>NIGHT CLUB</td>\n",
       "      <td>0</td>\n",
       "      <td>UNIT</td>\n",
       "      <td>2014</td>\n",
       "      <td>0</td>\n",
       "    </tr>\n",
       "    <tr>\n",
       "      <th>1</th>\n",
       "      <td>2</td>\n",
       "      <td>32</td>\n",
       "      <td>3201</td>\n",
       "      <td>KABUPATEN BOGOR</td>\n",
       "      <td>PUB</td>\n",
       "      <td>0</td>\n",
       "      <td>UNIT</td>\n",
       "      <td>2014</td>\n",
       "      <td>0</td>\n",
       "    </tr>\n",
       "    <tr>\n",
       "      <th>2</th>\n",
       "      <td>3</td>\n",
       "      <td>32</td>\n",
       "      <td>3201</td>\n",
       "      <td>KABUPATEN BOGOR</td>\n",
       "      <td>DISKOTIK</td>\n",
       "      <td>0</td>\n",
       "      <td>UNIT</td>\n",
       "      <td>2014</td>\n",
       "      <td>0</td>\n",
       "    </tr>\n",
       "    <tr>\n",
       "      <th>3</th>\n",
       "      <td>4</td>\n",
       "      <td>32</td>\n",
       "      <td>3201</td>\n",
       "      <td>KABUPATEN BOGOR</td>\n",
       "      <td>KARAOKE/BAR</td>\n",
       "      <td>0</td>\n",
       "      <td>UNIT</td>\n",
       "      <td>2014</td>\n",
       "      <td>0</td>\n",
       "    </tr>\n",
       "    <tr>\n",
       "      <th>4</th>\n",
       "      <td>5</td>\n",
       "      <td>32</td>\n",
       "      <td>3201</td>\n",
       "      <td>KABUPATEN BOGOR</td>\n",
       "      <td>PANTI PIJAT</td>\n",
       "      <td>43</td>\n",
       "      <td>UNIT</td>\n",
       "      <td>2014</td>\n",
       "      <td>0</td>\n",
       "    </tr>\n",
       "    <tr>\n",
       "      <th>...</th>\n",
       "      <td>...</td>\n",
       "      <td>...</td>\n",
       "      <td>...</td>\n",
       "      <td>...</td>\n",
       "      <td>...</td>\n",
       "      <td>...</td>\n",
       "      <td>...</td>\n",
       "      <td>...</td>\n",
       "      <td>...</td>\n",
       "    </tr>\n",
       "    <tr>\n",
       "      <th>1075</th>\n",
       "      <td>1076</td>\n",
       "      <td>32</td>\n",
       "      <td>3279</td>\n",
       "      <td>KOTA BANJAR</td>\n",
       "      <td>NIGHT CLUB</td>\n",
       "      <td>0</td>\n",
       "      <td>UNIT</td>\n",
       "      <td>2021</td>\n",
       "      <td>2</td>\n",
       "    </tr>\n",
       "    <tr>\n",
       "      <th>1076</th>\n",
       "      <td>1077</td>\n",
       "      <td>32</td>\n",
       "      <td>3279</td>\n",
       "      <td>KOTA BANJAR</td>\n",
       "      <td>PUB</td>\n",
       "      <td>0</td>\n",
       "      <td>UNIT</td>\n",
       "      <td>2021</td>\n",
       "      <td>2</td>\n",
       "    </tr>\n",
       "    <tr>\n",
       "      <th>1077</th>\n",
       "      <td>1078</td>\n",
       "      <td>32</td>\n",
       "      <td>3279</td>\n",
       "      <td>KOTA BANJAR</td>\n",
       "      <td>DISKOTIK</td>\n",
       "      <td>0</td>\n",
       "      <td>UNIT</td>\n",
       "      <td>2021</td>\n",
       "      <td>2</td>\n",
       "    </tr>\n",
       "    <tr>\n",
       "      <th>1078</th>\n",
       "      <td>1079</td>\n",
       "      <td>32</td>\n",
       "      <td>3279</td>\n",
       "      <td>KOTA BANJAR</td>\n",
       "      <td>KARAOKE/BAR</td>\n",
       "      <td>0</td>\n",
       "      <td>UNIT</td>\n",
       "      <td>2021</td>\n",
       "      <td>2</td>\n",
       "    </tr>\n",
       "    <tr>\n",
       "      <th>1079</th>\n",
       "      <td>1080</td>\n",
       "      <td>32</td>\n",
       "      <td>3279</td>\n",
       "      <td>KOTA BANJAR</td>\n",
       "      <td>PANTI PIJAT</td>\n",
       "      <td>0</td>\n",
       "      <td>UNIT</td>\n",
       "      <td>2021</td>\n",
       "      <td>2</td>\n",
       "    </tr>\n",
       "  </tbody>\n",
       "</table>\n",
       "<p>1080 rows × 9 columns</p>\n",
       "</div>"
      ],
      "text/plain": [
       "        id  kode_provinsi  kode_kabupaten_kota nama_kabupaten_kota  \\\n",
       "0        1             32                 3201     KABUPATEN BOGOR   \n",
       "1        2             32                 3201     KABUPATEN BOGOR   \n",
       "2        3             32                 3201     KABUPATEN BOGOR   \n",
       "3        4             32                 3201     KABUPATEN BOGOR   \n",
       "4        5             32                 3201     KABUPATEN BOGOR   \n",
       "...    ...            ...                  ...                 ...   \n",
       "1075  1076             32                 3279         KOTA BANJAR   \n",
       "1076  1077             32                 3279         KOTA BANJAR   \n",
       "1077  1078             32                 3279         KOTA BANJAR   \n",
       "1078  1079             32                 3279         KOTA BANJAR   \n",
       "1079  1080             32                 3279         KOTA BANJAR   \n",
       "\n",
       "     jenis_tempat_hiburan  jumlah_tempat_hiburan satuan  tahun  Cluster  \n",
       "0              NIGHT CLUB                      0   UNIT   2014        0  \n",
       "1                     PUB                      0   UNIT   2014        0  \n",
       "2                DISKOTIK                      0   UNIT   2014        0  \n",
       "3             KARAOKE/BAR                      0   UNIT   2014        0  \n",
       "4             PANTI PIJAT                     43   UNIT   2014        0  \n",
       "...                   ...                    ...    ...    ...      ...  \n",
       "1075           NIGHT CLUB                      0   UNIT   2021        2  \n",
       "1076                  PUB                      0   UNIT   2021        2  \n",
       "1077             DISKOTIK                      0   UNIT   2021        2  \n",
       "1078          KARAOKE/BAR                      0   UNIT   2021        2  \n",
       "1079          PANTI PIJAT                      0   UNIT   2021        2  \n",
       "\n",
       "[1080 rows x 9 columns]"
      ]
     },
     "execution_count": 17,
     "metadata": {},
     "output_type": "execute_result"
    }
   ],
   "source": [
    "df"
   ]
  },
  {
   "cell_type": "code",
   "execution_count": 18,
   "id": "0630054a",
   "metadata": {},
   "outputs": [
    {
     "data": {
      "text/plain": [
       "array([[0.01500085, 0.14285714],\n",
       "       [0.02240825, 0.57142857],\n",
       "       [0.03579401, 0.92857143]])"
      ]
     },
     "execution_count": 18,
     "metadata": {},
     "output_type": "execute_result"
    }
   ],
   "source": [
    "kmean.cluster_centers_"
   ]
  },
  {
   "cell_type": "code",
   "execution_count": 27,
   "id": "b45a218b",
   "metadata": {},
   "outputs": [
    {
     "data": {
      "text/plain": [
       "<matplotlib.legend.Legend at 0x1e3535764f0>"
      ]
     },
     "execution_count": 27,
     "metadata": {},
     "output_type": "execute_result"
    },
    {
     "data": {
      "image/png": "[encoded data removed]",
      "text/plain": [
       "<Figure size 640x480 with 1 Axes>"
      ]
     },
     "metadata": {},
     "output_type": "display_data"
    }
   ],
   "source": [
    "plt.scatter(x_train[:,0], x_train[:,1], c=kmean.labels_)\n",
    "plt.scatter(kmean.cluster_centers_[0,0], kmean.cluster_centers_[0,1], cmap='rainbow', marker='*', s=150, label='Centroid 0')\n",
    "plt.scatter(kmean.cluster_centers_[1,0], kmean.cluster_centers_[1,1], cmap='rainbow', marker='*', s=150, label='Centroid 1')\n",
    "plt.scatter(kmean.cluster_centers_[2,0], kmean.cluster_centers_[2,1], cmap='rainbow', marker='*', s=150, label='Centroid 2')\n",
    "plt.xlabel(\"Jumlah tempat hiburan\")\n",
    "plt.ylabel(\"Tahun\")\n",
    "plt.legend()"
   ]
  },
  {
   "cell_type": "code",
   "execution_count": 31,
   "id": "3e443a66",
   "metadata": {},
   "outputs": [
    {
     "name": "stderr",
     "output_type": "stream",
     "text": [
      "C:\\Users\\Farhan\\AppData\\Local\\Temp\\ipykernel_7744\\3102192294.py:4: ConvergenceWarning: Number of distinct clusters (148) found smaller than n_clusters (149). Possibly due to duplicate points in X.\n",
      "  km = KMeans(n_clusters=k).fit(x_train)\n"
     ]
    }
   ],
   "source": [
    "inertias = []\n",
    "k_range = range(1,150)\n",
    "for k in k_range:\n",
    "    km = KMeans(n_clusters=k).fit(x_train)\n",
    "    inertias.append(km.inertia_)"
   ]
  },
  {
   "cell_type": "code",
   "execution_count": 32,
   "id": "992cb8e2",
   "metadata": {},
   "outputs": [
    {
     "data": {
      "text/plain": [
       "[123.80535237087285,\n",
       " 35.58885592382468,\n",
       " 20.418774649480042,\n",
       " 13.527017916483159,\n",
       " 8.427720660003107,\n",
       " 7.050152264367094,\n",
       " 5.682720601903478,\n",
       " 4.319040978398354,\n",
       " 2.977367246339306,\n",
       " 2.3789417897504137,\n",
       " 1.9937589807794907,\n",
       " 1.607803020212678,\n",
       " 1.294014641333206,\n",
       " 1.1608963163903154,\n",
       " 1.0008374435426481,\n",
       " 0.9410695347482483,\n",
       " 0.8377330842396786,\n",
       " 0.7810962107477726,\n",
       " 0.7224554581319669,\n",
       " 0.6215255414891316,\n",
       " 0.5573911765221503,\n",
       " 0.535747753213765,\n",
       " 0.47189984712218347,\n",
       " 0.41698135258801333,\n",
       " 0.37487411653311287,\n",
       " 0.33914305810321477,\n",
       " 0.28352238394111684,\n",
       " 0.2767366412165395,\n",
       " 0.23236974406429667,\n",
       " 0.2203996252292219,\n",
       " 0.19389054614057172,\n",
       " 0.17461020212668393,\n",
       " 0.17150680376160532,\n",
       " 0.15583696973228853,\n",
       " 0.134192032119819,\n",
       " 0.1290115807344531,\n",
       " 0.11720852108047308,\n",
       " 0.10378942575339177,\n",
       " 0.0976338576118835,\n",
       " 0.09139502793175304,\n",
       " 0.08727692810506849,\n",
       " 0.08177168777328303,\n",
       " 0.07444457878563099,\n",
       " 0.07508034849950351,\n",
       " 0.06593555644183959,\n",
       " 0.06401259122448093,\n",
       " 0.05981715962308241,\n",
       " 0.05405798378900668,\n",
       " 0.05020391022895071,\n",
       " 0.04839854059387479,\n",
       " 0.0446625759517301,\n",
       " 0.039330893507470446,\n",
       " 0.03898978475799438,\n",
       " 0.03803459028564547,\n",
       " 0.03590883018067778,\n",
       " 0.0316441878838434,\n",
       " 0.03050437716180924,\n",
       " 0.028949014849467408,\n",
       " 0.02619790691066655,\n",
       " 0.024685952348932005,\n",
       " 0.022682878184393733,\n",
       " 0.021894250878430888,\n",
       " 0.02008238464698379,\n",
       " 0.018243499589024027,\n",
       " 0.018304142186895817,\n",
       " 0.01705089439330959,\n",
       " 0.01601499871529808,\n",
       " 0.015009089746029372,\n",
       " 0.014642170497531672,\n",
       " 0.012952900576651737,\n",
       " 0.012950584161951877,\n",
       " 0.011998917208531391,\n",
       " 0.011716892372147129,\n",
       " 0.011224172606574878,\n",
       " 0.010571462856997817,\n",
       " 0.009786356784024574,\n",
       " 0.009232083214934754,\n",
       " 0.009109027672241364,\n",
       " 0.008496209330369736,\n",
       " 0.008004825187080735,\n",
       " 0.008073468022217919,\n",
       " 0.007375682414493017,\n",
       " 0.00731626473099013,\n",
       " 0.006621128812313196,\n",
       " 0.00643676388806616,\n",
       " 0.006224464263939735,\n",
       " 0.0060505087852835635,\n",
       " 0.0054751630701367566,\n",
       " 0.005268019319410723,\n",
       " 0.004999668894487775,\n",
       " 0.0048931091003693306,\n",
       " 0.004638427739945808,\n",
       " 0.00426472088050051,\n",
       " 0.0040284556766053605,\n",
       " 0.0038516519015655165,\n",
       " 0.0036444624562450866,\n",
       " 0.003339181948299913,\n",
       " 0.0034194927365296343,\n",
       " 0.003270264345604867,\n",
       " 0.0030109018278448984,\n",
       " 0.002774660774846483,\n",
       " 0.0025385314197454633,\n",
       " 0.002373665323184865,\n",
       " 0.002448130588117385,\n",
       " 0.0022383991694349455,\n",
       " 0.002290971646477303,\n",
       " 0.0021398816239292196,\n",
       " 0.0019045341541099948,\n",
       " 0.0017293918509887077,\n",
       " 0.001729578014151041,\n",
       " 0.0016025030395436977,\n",
       " 0.0015142244679661949,\n",
       " 0.0013912823155626058,\n",
       " 0.0013592250190091564,\n",
       " 0.0012472664931831162,\n",
       " 0.001212528447092097,\n",
       " 0.001121047869122496,\n",
       " 0.0010220835320271775,\n",
       " 0.0010470293957795724,\n",
       " 0.0009352942657483267,\n",
       " 0.0009068383801897946,\n",
       " 0.0008536431027498196,\n",
       " 0.000829739752706481,\n",
       " 0.0007605987542166376,\n",
       " 0.0007304403219189673,\n",
       " 0.0007011754728004868,\n",
       " 0.0006761551437831593,\n",
       " 0.0006187695027983439,\n",
       " 0.0006230140228994975,\n",
       " 0.0005476179421553213,\n",
       " 0.0005018218042218219,\n",
       " 0.0005046142516567916,\n",
       " 0.0004764663815122989,\n",
       " 0.0004147901419903672,\n",
       " 0.0003948520673046851,\n",
       " 0.0003677843273432866,\n",
       " 0.00033807268663521095,\n",
       " 0.00031070670177250995,\n",
       " 0.00026535735542860547,\n",
       " 0.00023847501094639395,\n",
       " 0.00020329017326577842,\n",
       " 0.0001720147619941202,\n",
       " 0.00014308500656783633,\n",
       " 0.00010790016888722085,\n",
       " 7.818852817914555e-05,\n",
       " 4.691311690748733e-05,\n",
       " 2.3456558453743664e-05,\n",
       " 2.575389632821069e-30,\n",
       " 2.543792344670966e-30]"
      ]
     },
     "execution_count": 32,
     "metadata": {},
     "output_type": "execute_result"
    }
   ],
   "source": [
    "inertias"
   ]
  },
  {
   "cell_type": "code",
   "execution_count": 33,
   "id": "d59b7697",
   "metadata": {},
   "outputs": [
    {
     "data": {
      "text/plain": [
       "[<matplotlib.lines.Line2D at 0x1e3538687f0>]"
      ]
     },
     "execution_count": 33,
     "metadata": {},
     "output_type": "execute_result"
    },
    {
     "data": {
      "image/png": "[encoded data removed]",
      "text/plain": [
       "<Figure size 640x480 with 1 Axes>"
      ]
     },
     "metadata": {},
     "output_type": "display_data"
    }
   ],
   "source": [
    "plt.xlabel(\"k\")\n",
    "plt.ylabel(\"Sum of erorr\")\n",
    "plt.plot(k_range,inertias)"
   ]
  },
  {
   "cell_type": "code",
   "execution_count": null,
   "id": "3e6d3606",
   "metadata": {},
   "outputs": [],
   "source": []
  }
 ],
 "metadata": {
  "kernelspec": {
   "display_name": "Python 3 (ipykernel)",
   "language": "python",
   "name": "python3"
  },
  "language_info": {
   "codemirror_mode": {
    "name": "ipython",
    "version": 3
   },
   "file_extension": ".py",
   "mimetype": "text/x-python",
   "name": "python",
   "nbconvert_exporter": "python",
   "pygments_lexer": "ipython3",
   "version": "3.9.13"
  }
 },
 "nbformat": 4,
 "nbformat_minor": 5
}
